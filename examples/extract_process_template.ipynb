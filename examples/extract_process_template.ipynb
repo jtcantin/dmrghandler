{
 "cells": [
  {
   "cell_type": "code",
   "execution_count": 1,
   "metadata": {},
   "outputs": [],
   "source": [
    "import numpy as np\n",
    "import h5py\n",
    "import dmrghandler.hdf5_io as hdf5_io\n",
    "import dmrghandler.data_processing as dp\n",
    "from pathlib import Path\n",
    "import openpyxl as px\n",
    "import openpyxl.chart as px_chart\n",
    "import pandas as pd"
   ]
  },
  {
   "cell_type": "markdown",
   "metadata": {},
   "source": [
    "This notebook will collect the DMRG calculation data and then output an excel file with the data and plots (one sheet per calculation run), as well as csv files that contain the performance metric data (bond dimension, DMRG energy, time, discarded weights, etc.)\n",
    "\n",
    "To run this notebook and collect the data, the following are needed:\n",
    "- catalysis_instances.csv\n",
    "    \n",
    "    This contains the metadata for the catalysist instances.\n",
    "    Put into `catalyst_meta_data_path`\n",
    "\n",
    "- DMRG output datafolders (i.e. those that were output with the UUIDs)\n",
    "    \n",
    "    Put folder of these datafolders into `data_file_path`\n",
    "\n",
    "- The run commands returned by the `prepare_calcs_*.py` files\n",
    "    \n",
    "    Put into `run_commands`\n",
    "\n",
    "- SLURM emails (.eml or other text format should work)\n",
    "    \n",
    "    The notebook will automatically collect the run times from the email subjects.\n",
    "    Put folder of these emails into `slurm_emails_folder`\n",
    "\n",
    "- The FCIDUMP files\n",
    "    \n",
    "    Put the folder of these files into `fci_dump_folder`\n",
    "\n",
    "- Excel output save folder\n",
    "    \n",
    "    Put into `excel_storage_path`\n",
    "    \n",
    "- name of output excel file\n",
    "    \n",
    "    Put into `excel_name`\n",
    "\n",
    "- Performance metrics folder location\n",
    "    \n",
    "    Put into `csv_storage_path`"
   ]
  },
  {
   "cell_type": "code",
   "execution_count": 2,
   "metadata": {},
   "outputs": [],
   "source": [
    "catalyst_meta_data_path=Path('catalysis_instances.csv')\n",
    "excel_name=Path('20240502_catalyst_up_to_h_space_20.xlsx')\n",
    "data_file_path = Path(\"/mnt/d/ZapataCalcs/dmrg_data/data_storage_catalyst_up_to_h_space_20\")\n",
    "\n",
    "run_commands = \\\n",
    "\"\"\"\n",
    "# up to 20 log10 hilbert space\n",
    "#######################\n",
    "# fcidumps_catalysts/fcidump.3_ts_ru_macho_co2_{'Ru': 'cc-pVTZ-PP', 'default': '6-311++G**'}\n",
    "sbatch ../201317d3-180a-4dc3-a79f-2c8a99c05a51/submit_201317d3-180a-4dc3-a79f-2c8a99c05a51.sh\n",
    "# fcidumps_catalysts/fcidump.45_1_star_{'default' : 'cc-pVTZ', 'Ru' : 'LANL2TZ'}\n",
    "sbatch ../2ce09dc8-f33c-4182-a642-6f441ab5bfd9/submit_2ce09dc8-f33c-4182-a642-6f441ab5bfd9.sh\n",
    "# fcidumps_catalysts/fcidump.49_2_{'default' : 'cc-pVTZ', 'Ru' : 'LANL2TZ'}\n",
    "sbatch ../149bb248-1537-4fa2-b289-3000312cff96/submit_149bb248-1537-4fa2-b289-3000312cff96.sh\n",
    "# fcidumps_catalysts/fcidump.40_1_ts_{'default' : 'cc-pVTZ', 'Ru' : 'LANL2TZ'}\n",
    "sbatch ../89133007-eb5c-4fa0-825e-bdd5f349d7e8/submit_89133007-eb5c-4fa0-825e-bdd5f349d7e8.sh\n",
    "# fcidumps_catalysts/fcidump.41_1_ts_{'default' : 'cc-pVTZ', 'Ru' : 'LANL2TZ'}\n",
    "sbatch ../731b2260-39bc-4660-a780-9e176d3096c1/submit_731b2260-39bc-4660-a780-9e176d3096c1.sh\n",
    "# fcidumps_catalysts/fcidump.56_5_{'default' : '6-31++G(d,p)'}\n",
    "sbatch ../bda65fe2-de8c-4de2-b482-fb3d91f5070f/submit_bda65fe2-de8c-4de2-b482-fb3d91f5070f.sh\n",
    "# fcidumps_catalysts/fcidump.50_6acme_{'default' : '6-31++G(d,p)'}\n",
    "sbatch ../788a6027-f7bd-4070-8cd7-977d215671a6/submit_788a6027-f7bd-4070-8cd7-977d215671a6.sh\n",
    "# fcidumps_catalysts/fcidump.1_ru_macho_{'Ru': 'cc-pVTZ-PP', 'default': '6-311++G**'}\n",
    "sbatch ../1940e8e0-3863-412e-a508-0dd2ce5a1cd7/submit_1940e8e0-3863-412e-a508-0dd2ce5a1cd7.sh\n",
    "# fcidumps_catalysts/fcidump.32_2ru_III_3pl_{'default' : '6-31+G(d,p)', 'Ru' : 'lanl2tz' }\n",
    "sbatch ../0a6caecd-d18d-41d9-a73b-3db288a6bd9e/submit_0a6caecd-d18d-41d9-a73b-3db288a6bd9e.sh\n",
    "# fcidumps_catalysts/fcidump.33_2ru_III_3pl_{'default' : '6-31+G(d,p)', 'Ru' : 'lanl2tz' }\n",
    "sbatch ../5842b252-6f65-4700-9e6f-53ee80ae8c37/submit_5842b252-6f65-4700-9e6f-53ee80ae8c37.sh\n",
    "# fcidumps_catalysts/fcidump.34_3ruo_IV_2pl_{'Ru' : 'lanl2tz', 'default' : '6-31+G(d,p)'}\n",
    "sbatch ../9938a711-5f29-4714-a1a3-ae87af1c55d7/submit_9938a711-5f29-4714-a1a3-ae87af1c55d7.sh\n",
    "# fcidumps_catalysts/fcidump.61_3_15_af_{'default' : 'cc-pVTZ', 'Mn' : 'lanl2tz'}\n",
    "sbatch ../ee71204e-6eb8-4df5-b72c-40f69a304d5b/submit_ee71204e-6eb8-4df5-b72c-40f69a304d5b.sh\n",
    "# fcidumps_catalysts/fcidump.35_3ruo_IV_2pl_{'Ru' : 'lanl2tz', 'default' : '6-31+G(d,p)'}\n",
    "sbatch ../b7fa5052-dc87-475a-bf86-51a08b4d8e2c/submit_b7fa5052-dc87-475a-bf86-51a08b4d8e2c.sh\n",
    "# fcidumps_catalysts/fcidump.59_5_16_{'default' : 'cc-pVTZ', 'Mn' : 'lanl2tz'}\n",
    "sbatch ../7f6e14b8-1a30-4bda-b5fc-fbef80575cac/submit_7f6e14b8-1a30-4bda-b5fc-fbef80575cac.sh\n",
    "# fcidumps_catalysts/fcidump.63_5_15_af_ts_{'default' : 'cc-pVTZ', 'Mn' : 'lanl2tz'}\n",
    "sbatch ../7210148a-d49c-439a-80eb-4f1f8175cc2b/submit_7210148a-d49c-439a-80eb-4f1f8175cc2b.sh\n",
    "### # fcidumps_catalysts/fcidump.65_5_15_af_{'default' : 'cc-pVTZ', 'Mn' : 'lanl2tz'}\n",
    "### sbatch ../b2abb1dc-08bf-4ba2-9bd6-f65430aea44c/submit_b2abb1dc-08bf-4ba2-9bd6-f65430aea44c.sh\n",
    "# fcidumps_catalysts/fcidump.60_5_16_{'default' : 'cc-pVTZ', 'Mn' : 'lanl2tz'}\n",
    "sbatch ../36d92b6f-2ca5-43af-a7d1-4303f6349ca1/submit_36d92b6f-2ca5-43af-a7d1-4303f6349ca1.sh\n",
    "\n",
    "\"\"\""
   ]
  },
  {
   "cell_type": "code",
   "execution_count": 3,
   "metadata": {},
   "outputs": [],
   "source": [
    "slurm_emails_folder = Path('/mnt/d/OneDrive - University of Toronto/zapata/homogeneous_catalysts_dmrg_results_private/small_catalysts_slurm_emails')\n",
    "fci_dump_folder  = Path(\"/mnt/d/ZapataCalcs/GSEE/fcidumps_catalysts\")\n",
    "excel_storage_path = Path(\"/mnt/d/OneDrive - University of Toronto/zapata/homogeneous_catalysts_dmrg_results_private/\")\n",
    "csv_storage_path = excel_storage_path/Path(\"performance_metrics_store\")\n"
   ]
  },
  {
   "cell_type": "code",
   "execution_count": 4,
   "metadata": {},
   "outputs": [],
   "source": [
    "catalyst_meta_data = pd.read_csv(catalyst_meta_data_path)"
   ]
  },
  {
   "cell_type": "code",
   "execution_count": 5,
   "metadata": {},
   "outputs": [
    {
     "name": "stdout",
     "output_type": "stream",
     "text": [
      "{'a6d74014-60d7-489b-90a4-42d488a86836': '00:08:25', '53503986-79fe-4eb4-a52c-8a78d2808746': '07:12:14', 'fc3d3e2d-e5e9-467f-a5e3-e84f9e9f5e16': '01:56:42', '9bc04ea9-6225-4854-8619-b64709df6ab3': '01:22:37', '6a62e336-fd78-4981-b1df-fe5dd77e983f': '12:57:46', '2a259e78-6b5f-4500-b680-35484a27bee3': '00:55:20', '4bf5704f-82dd-452b-b8ce-d7035e4fec43': '00:26:51', 'fe9f283a-3813-4c7f-823b-89d0db32c65b': '00:47:05', 'e9d726a5-cd3c-49a7-a3ed-408579d54446': '14:57:50', '189a415c-8a33-455c-afc0-2c24821b5ee1': '07:14:28', 'ea207f47-74ce-4c29-8661-0f89b87aa657': '06:20:33', '834f65c2-43ee-4ed3-baca-e815484b1e82': '05:31:33', 'e5d9a6e3-473c-4ab4-a7a0-c7133b1d3284': '06:49:06', '2eb73a36-19d7-406b-a436-3c28e6d9eb37': '00:00:27', 'b745eddc-955b-4cf7-8938-d07c04392bed': '04:03:45', 'e067a6b7-b8d8-4b35-8886-85c5bb9ce7fd': '05:03:25', '2baf3e03-efda-4079-acc5-e352446677f2': '05:31:52', 'ae193cf7-e649-48bd-88b4-705122fde28b': '00:00:27', '7477aa8f-50b0-4e16-bf2a-2c6854aa0174': '00:09:57', '01a306c7-fd6d-4c35-803b-028eccf1b6ab': '14:57:34', 'c9009138-60a0-4458-b0fd-43e947eec3d9': '05:23:14', '8abab4b4-c8d8-4f62-8bf2-3b13d88adcbf': '00:05:13', '9d21e4f7-5ba8-4713-b63e-4e27aecbea44': '00:06:23', 'df4fdea0-26d9-4645-8d69-661aa1e3d961': '00:04:53', 'cdfed6c2-3f90-433d-9462-36b96fd7bb67': '14:57:35', '6636622f-38bf-4baf-b75e-5001a3de8f60': '14:57:36', '0f42b4b5-5b29-48ec-8ceb-5642c7dd0921': '10:24:29', 'b8d6c987-ac32-4f6c-845e-d010fde3dd46': '00:01:06', '52c019ab-51b4-4a94-a05c-d551268ef568': '00:00:54', '3385ed19-7784-456f-aa83-e2c84b32c5b4': '00:09:08', 'e9816bf5-97b6-42fa-92b4-9909f76ecf98': '00:00:40', '41a59b86-5143-4cb6-a40e-92015e813826': '00:01:10', '4b024d60-fe7a-4b63-97ec-0ca4bb09e466': '00:00:15', 'b17005d3-6006-4ab2-b698-1b7c3bd412cd': '00:00:42', '160018be-ce0b-453c-8fb4-0f1c9af68151': '00:02:00', '05a61d36-ac30-4070-829d-56fe64cbeb15': '00:00:30', '2bf4d2d3-efe1-4522-8967-034d2ebb200b': '00:02:06', 'e07a2687-e0ea-402c-96ca-2a5cb84e884e': '00:29:12', 'bf981dce-c537-47e0-857b-72544ee4c510': '00:00:32', '2baf9e26-24a8-48cc-a177-c7db6612ae2a': '00:03:58', '2cf6a2c3-a484-45f4-af77-4e36b80af1f1': '00:43:34', '94b5a09d-4edd-477d-81d9-138880a99d64': '01:40:00', 'bac9d303-fc98-4c9e-9754-ddb53b14ac43': '00:22:34', '5bd760b8-978f-44ba-af3f-612e86e3d6e0': '06:39:27', '7c9ae916-ad8f-4c9b-ae2c-b856b51c2bc5': '05:55:31', '08c34be4-358b-4aa9-83d9-045147296353': '02:26:21', '52a10baa-6307-4520-a6f0-9785496e8114': '02:48:58', '1f3457d8-9c48-4103-b75c-b95d853bc097': '02:48:11', 'bac2cce9-e779-41bb-b80f-4a01f416e09f': '03:04:18', 'cbeb69b6-b014-4ee4-9505-2f4fe6fd14da': '07:48:37', 'c108fe4d-dd8a-4d30-b6e9-15470522f6c3': '05:18:37', '3f5b608a-3cd9-4f36-b94a-c53b0ba0c604': '01:09:10', '4d21069a-433c-4c26-b79d-1770b9a0d7e1': '01:13:22', '643da72c-e3ca-4d18-8f7c-01c7d4a29160': '09:28:54', 'f4f7272a-e784-468f-ae63-9817e3cbf30d': '01:11:42', '5eee270f-2d56-4819-9bc2-0512daaf8758': '00:59:25', '19182869-56b8-4c95-b5f3-c03778cdb3dd': '02:18:58', '32e1ae65-8982-4d8d-aef1-5910df3cba95': '00:53:54', '0e2fe680-ebf9-4136-adbd-09eed8b1cacf': '00:57:50', '2b63ffbf-d756-4499-91e6-4d1d993028ba': '00:54:52', 'c6841ca9-b43c-4ef2-aba2-9ab6c4099065': '01:08:01', '8981c51b-72ff-4af0-a28a-e5046deeeb61': '01:16:47', 'da0b4fc6-a42b-4aff-ac6d-b603399e866f': '01:07:25', '201317d3-180a-4dc3-a79f-2c8a99c05a51': '00:21:59', '2ce09dc8-f33c-4182-a642-6f441ab5bfd9': '01:10:55', '149bb248-1537-4fa2-b289-3000312cff96': '01:22:02', '89133007-eb5c-4fa0-825e-bdd5f349d7e8': '00:21:57', '731b2260-39bc-4660-a780-9e176d3096c1': '00:26:44', 'bda65fe2-de8c-4de2-b482-fb3d91f5070f': '06:42:25', '788a6027-f7bd-4070-8cd7-977d215671a6': '01:24:24', '1940e8e0-3863-412e-a508-0dd2ce5a1cd7': '03:31:31', '0a6caecd-d18d-41d9-a73b-3db288a6bd9e': '00:00:34', '5842b252-6f65-4700-9e6f-53ee80ae8c37': '02:37:25', '9938a711-5f29-4714-a1a3-ae87af1c55d7': '00:00:17', 'ee71204e-6eb8-4df5-b72c-40f69a304d5b': '00:03:07', 'b7fa5052-dc87-475a-bf86-51a08b4d8e2c': '04:12:13', '7f6e14b8-1a30-4bda-b5fc-fbef80575cac': '00:03:12', '7210148a-d49c-439a-80eb-4f1f8175cc2b': '00:04:00', 'b2abb1dc-08bf-4ba2-9bd6-f65430aea44c': '00:02:19', '36d92b6f-2ca5-43af-a7d1-4303f6349ca1': '05:02:08'}\n"
     ]
    }
   ],
   "source": [
    "\n",
    "cc_wall_time_dict = {}\n",
    "# Get all eml files in the folder\n",
    "slurm_email_files = list(slurm_emails_folder.glob('*.eml'))\n",
    "for email_file in slurm_email_files:\n",
    "    with open(email_file, 'r') as f:\n",
    "        use_next_line_subject = False\n",
    "        obtained_run_time = False\n",
    "        for line in f:\n",
    "            if use_next_line_subject:\n",
    "                line = line.strip()\n",
    "                run_time = line.split(', ')[0].split(' ')[-1]\n",
    "                # print(run_time)\n",
    "                obtained_run_time = True\n",
    "                use_next_line_subject = False\n",
    "            if line.startswith('Subject: '):\n",
    "                use_next_line_subject = True\n",
    "                # print(line)\n",
    "            elif line.startswith('   Command=../'):\n",
    "                line = line.strip()\n",
    "                uuid = line.split('/')[1]\n",
    "                # print(uuid)\n",
    "                assert obtained_run_time, 'Run time not yet obtained'\n",
    "                cc_wall_time_dict[uuid] = run_time\n",
    "                \n",
    "print(cc_wall_time_dict)"
   ]
  },
  {
   "cell_type": "code",
   "execution_count": 6,
   "metadata": {},
   "outputs": [],
   "source": [
    "#Load all fcidump file names\n",
    "fcidump_files = [filename.name for filename in list(fci_dump_folder.glob('fcidump.*'))]\n",
    "# fcidump_files\n"
   ]
  },
  {
   "cell_type": "code",
   "execution_count": 7,
   "metadata": {},
   "outputs": [
    {
     "name": "stdout",
     "output_type": "stream",
     "text": [
      "fcidump.3_ts_ru_macho_co2_{'Ru'_ 'cc-pVTZ-PP', 'default'_ '6-311++G__'}\n",
      "fcidump.45_1_star_{'default' _ 'cc-pVTZ', 'Ru' _ 'LANL2TZ'}\n",
      "fcidump.49_2_{'default' _ 'cc-pVTZ', 'Ru' _ 'LANL2TZ'}\n",
      "fcidump.40_1_ts_{'default' _ 'cc-pVTZ', 'Ru' _ 'LANL2TZ'}\n",
      "fcidump.41_1_ts_{'default' _ 'cc-pVTZ', 'Ru' _ 'LANL2TZ'}\n",
      "fcidump.56_5_{'default' _ '6-31++G(d,p)'}\n",
      "fcidump.50_6acme_{'default' _ '6-31++G(d,p)'}\n",
      "fcidump.1_ru_macho_{'Ru'_ 'cc-pVTZ-PP', 'default'_ '6-311++G__'}\n",
      "fcidump.32_2ru_III_3pl_{'default' _ '6-31+G(d,p)', 'Ru' _ 'lanl2tz' }\n",
      "fcidump.33_2ru_III_3pl_{'default' _ '6-31+G(d,p)', 'Ru' _ 'lanl2tz' }\n",
      "fcidump.34_3ruo_IV_2pl_{'Ru' _ 'lanl2tz', 'default' _ '6-31+G(d,p)'}\n",
      "fcidump.61_3_15_af_{'default' _ 'cc-pVTZ', 'Mn' _ 'lanl2tz'}\n",
      "fcidump.35_3ruo_IV_2pl_{'Ru' _ 'lanl2tz', 'default' _ '6-31+G(d,p)'}\n",
      "fcidump.59_5_16_{'default' _ 'cc-pVTZ', 'Mn' _ 'lanl2tz'}\n",
      "fcidump.63_5_15_af_ts_{'default' _ 'cc-pVTZ', 'Mn' _ 'lanl2tz'}\n",
      "fcidump.60_5_16_{'default' _ 'cc-pVTZ', 'Mn' _ 'lanl2tz'}\n",
      "[{'fcidump': \"fcidump.3_ts_ru_macho_co2_{'Ru'_ 'cc-pVTZ-PP', 'default'_ '6-311++G__'}\", 'fcidump_test_string': 'fcidump.3_', 'Calc UUID': '201317d3-180a-4dc3-a79f-2c8a99c05a51', 'CC Wall Time': '00:21:59', 'Attempt Result': ''}, {'fcidump': \"fcidump.45_1_star_{'default' _ 'cc-pVTZ', 'Ru' _ 'LANL2TZ'}\", 'fcidump_test_string': 'fcidump.45_', 'Calc UUID': '2ce09dc8-f33c-4182-a642-6f441ab5bfd9', 'CC Wall Time': '01:10:55', 'Attempt Result': ''}, {'fcidump': \"fcidump.49_2_{'default' _ 'cc-pVTZ', 'Ru' _ 'LANL2TZ'}\", 'fcidump_test_string': 'fcidump.49_', 'Calc UUID': '149bb248-1537-4fa2-b289-3000312cff96', 'CC Wall Time': '01:22:02', 'Attempt Result': ''}, {'fcidump': \"fcidump.40_1_ts_{'default' _ 'cc-pVTZ', 'Ru' _ 'LANL2TZ'}\", 'fcidump_test_string': 'fcidump.40_', 'Calc UUID': '89133007-eb5c-4fa0-825e-bdd5f349d7e8', 'CC Wall Time': '00:21:57', 'Attempt Result': ''}, {'fcidump': \"fcidump.41_1_ts_{'default' _ 'cc-pVTZ', 'Ru' _ 'LANL2TZ'}\", 'fcidump_test_string': 'fcidump.41_', 'Calc UUID': '731b2260-39bc-4660-a780-9e176d3096c1', 'CC Wall Time': '00:26:44', 'Attempt Result': ''}, {'fcidump': \"fcidump.56_5_{'default' _ '6-31++G(d,p)'}\", 'fcidump_test_string': 'fcidump.56_', 'Calc UUID': 'bda65fe2-de8c-4de2-b482-fb3d91f5070f', 'CC Wall Time': '06:42:25', 'Attempt Result': ''}, {'fcidump': \"fcidump.50_6acme_{'default' _ '6-31++G(d,p)'}\", 'fcidump_test_string': 'fcidump.50_', 'Calc UUID': '788a6027-f7bd-4070-8cd7-977d215671a6', 'CC Wall Time': '01:24:24', 'Attempt Result': ''}, {'fcidump': \"fcidump.1_ru_macho_{'Ru'_ 'cc-pVTZ-PP', 'default'_ '6-311++G__'}\", 'fcidump_test_string': 'fcidump.1_', 'Calc UUID': '1940e8e0-3863-412e-a508-0dd2ce5a1cd7', 'CC Wall Time': '03:31:31', 'Attempt Result': ''}, {'fcidump': \"fcidump.32_2ru_III_3pl_{'default' _ '6-31+G(d,p)', 'Ru' _ 'lanl2tz' }\", 'fcidump_test_string': 'fcidump.32_', 'Calc UUID': '0a6caecd-d18d-41d9-a73b-3db288a6bd9e', 'CC Wall Time': '00:00:34', 'Attempt Result': ''}, {'fcidump': \"fcidump.33_2ru_III_3pl_{'default' _ '6-31+G(d,p)', 'Ru' _ 'lanl2tz' }\", 'fcidump_test_string': 'fcidump.33_', 'Calc UUID': '5842b252-6f65-4700-9e6f-53ee80ae8c37', 'CC Wall Time': '02:37:25', 'Attempt Result': ''}, {'fcidump': \"fcidump.34_3ruo_IV_2pl_{'Ru' _ 'lanl2tz', 'default' _ '6-31+G(d,p)'}\", 'fcidump_test_string': 'fcidump.34_', 'Calc UUID': '9938a711-5f29-4714-a1a3-ae87af1c55d7', 'CC Wall Time': '00:00:17', 'Attempt Result': ''}, {'fcidump': \"fcidump.61_3_15_af_{'default' _ 'cc-pVTZ', 'Mn' _ 'lanl2tz'}\", 'fcidump_test_string': 'fcidump.61_', 'Calc UUID': 'ee71204e-6eb8-4df5-b72c-40f69a304d5b', 'CC Wall Time': '00:03:07', 'Attempt Result': ''}, {'fcidump': \"fcidump.35_3ruo_IV_2pl_{'Ru' _ 'lanl2tz', 'default' _ '6-31+G(d,p)'}\", 'fcidump_test_string': 'fcidump.35_', 'Calc UUID': 'b7fa5052-dc87-475a-bf86-51a08b4d8e2c', 'CC Wall Time': '04:12:13', 'Attempt Result': ''}, {'fcidump': \"fcidump.59_5_16_{'default' _ 'cc-pVTZ', 'Mn' _ 'lanl2tz'}\", 'fcidump_test_string': 'fcidump.59_', 'Calc UUID': '7f6e14b8-1a30-4bda-b5fc-fbef80575cac', 'CC Wall Time': '00:03:12', 'Attempt Result': ''}, {'fcidump': \"fcidump.63_5_15_af_ts_{'default' _ 'cc-pVTZ', 'Mn' _ 'lanl2tz'}\", 'fcidump_test_string': 'fcidump.63_', 'Calc UUID': '7210148a-d49c-439a-80eb-4f1f8175cc2b', 'CC Wall Time': '00:04:00', 'Attempt Result': ''}, {'fcidump': \"fcidump.60_5_16_{'default' _ 'cc-pVTZ', 'Mn' _ 'lanl2tz'}\", 'fcidump_test_string': 'fcidump.60_', 'Calc UUID': '36d92b6f-2ca5-43af-a7d1-4303f6349ca1', 'CC Wall Time': '05:02:08', 'Attempt Result': ''}]\n"
     ]
    }
   ],
   "source": [
    "\n",
    "import io\n",
    "buf = io.StringIO(run_commands)\n",
    "orig_data_dict_list = []\n",
    "for line in buf.readlines():\n",
    "    # print(line)\n",
    "    if line.startswith('### '):\n",
    "        continue\n",
    "    if line.startswith('# fcidumps_catalysts/'):\n",
    "        fcidump_name_temp = line.split('fcidumps_catalysts/')[1].strip()\n",
    "        dict_entry = {}\n",
    "        # print(fcidump_name_temp)\n",
    "        # if fcidump_name.endswith('}'):\n",
    "        #     fcidump_test_string = fcidump_name.split('{')[0]\n",
    "        # else:\n",
    "        #     basis_end = fcidump_name.split('_')[-1]\n",
    "        #     fcidump_test_string = fcidump_name.split('_'+basis_end)[0]+'_'\n",
    "        fcidump_test_string = fcidump_name_temp.split('_')[0]+'_'\n",
    "        # print(fcidump_test_string)\n",
    "        for fcidump_name in fcidump_files:\n",
    "            if fcidump_name.startswith(fcidump_test_string):\n",
    "                break\n",
    "        print(fcidump_name)\n",
    "        dict_entry['fcidump'] = fcidump_name\n",
    "        dict_entry['fcidump_test_string'] = fcidump_test_string\n",
    "    elif line.startswith('sbatch ../'):\n",
    "        calc_uuid = line.split('sbatch ../')[1].split('/')[0]\n",
    "        # print(calc_uuid)\n",
    "        dict_entry['Calc UUID'] = calc_uuid\n",
    "        dict_entry['CC Wall Time'] = cc_wall_time_dict[calc_uuid]\n",
    "        dict_entry['Attempt Result'] = \"\"\n",
    "        orig_data_dict_list.append(dict_entry)\n",
    "\n",
    "print(orig_data_dict_list)      "
   ]
  },
  {
   "cell_type": "code",
   "execution_count": 8,
   "metadata": {},
   "outputs": [],
   "source": [
    "# catalyst_meta_data.columns"
   ]
  },
  {
   "cell_type": "code",
   "execution_count": 9,
   "metadata": {},
   "outputs": [],
   "source": [
    "data_dict_list = []\n",
    "for data_dict in orig_data_dict_list:\n",
    "    new_data_dict = {}\n",
    "    fcidump_test_string = data_dict['fcidump_test_string']\n",
    "    #Get metadata row\n",
    "    data_row = catalyst_meta_data[catalyst_meta_data['fcidump'].str.contains(fcidump_test_string)]\n",
    "    new_data_dict['instance ID'] = data_row['instance ID'].values[0]\n",
    "    new_data_dict['molecule'] = data_row['molecule'].values[0]\n",
    "    new_data_dict['charge'] = data_row['charge'].values[0]\n",
    "    new_data_dict['multiplicity'] = data_row['multiplicity'].values[0]\n",
    "    new_data_dict['fcidump'] = data_dict['fcidump']\n",
    "    new_data_dict['log10_hilbert_space_size'] = data_row['log10_hilbert_space_size'].values[0]\n",
    "    new_data_dict['Attempt Result'] = data_dict['Attempt Result']\n",
    "    new_data_dict['Calc UUID'] = data_dict['Calc UUID']\n",
    "    new_data_dict['CC Wall Time'] = data_dict['CC Wall Time']\n",
    "    if 'Calc UUID Small BD' in data_dict:\n",
    "        new_data_dict['Calc UUID Small BD'] = data_dict['Calc UUID Small BD']\n",
    "        new_data_dict['CC Wall Time Small BD'] = data_dict['CC Wall Time Small BD']\n",
    "    data_dict_list.append(new_data_dict)\n",
    "\n",
    "\n",
    "\n",
    "    "
   ]
  },
  {
   "cell_type": "code",
   "execution_count": 10,
   "metadata": {},
   "outputs": [],
   "source": [
    "# data_dict_list"
   ]
  },
  {
   "cell_type": "code",
   "execution_count": 11,
   "metadata": {},
   "outputs": [
    {
     "name": "stdout",
     "output_type": "stream",
     "text": [
      "Last loop included = 35\n",
      "Processed results available\n",
      "Checking that processed results match raw results.\n",
      "Last loop included = 35\n",
      "Processed results available\n",
      "Checking that processed results match raw results.\n",
      "Last loop included = 38\n",
      "Processed results available\n",
      "Checking that processed results match raw results.\n",
      "Last loop included = 21\n",
      "Processed results available\n",
      "Checking that processed results match raw results.\n",
      "Last loop included = 20\n",
      "Processed results available\n",
      "Checking that processed results match raw results.\n",
      "Last loop included = 45\n",
      "Last loop included = 28\n",
      "Processed results available\n",
      "Checking that processed results match raw results.\n",
      "Last loop included = 44\n",
      "Last loop included = 1\n",
      "Processed results available\n",
      "Checking that processed results match raw results.\n",
      "Last loop included = 43\n",
      "Last loop included = 1\n",
      "Processed results available\n",
      "Checking that processed results match raw results.\n",
      "Last loop included = 25\n",
      "Processed results available\n",
      "Checking that processed results match raw results.\n",
      "Last loop included = 43\n",
      "Last loop included = 24\n",
      "Processed results available\n",
      "Checking that processed results match raw results.\n",
      "Last loop included = 27\n",
      "Processed results available\n",
      "Checking that processed results match raw results.\n",
      "Last loop included = 45\n"
     ]
    }
   ],
   "source": [
    "wb = px.Workbook()\n",
    "\n",
    "dp.setup_workbook(data_file_path=data_file_path,data_dict_list=data_dict_list,workbook=wb,csv_storage_path=csv_storage_path)\n",
    "\n",
    "wb.save(excel_storage_path/excel_name)"
   ]
  }
 ],
 "metadata": {
  "kernelspec": {
   "display_name": "env_dmrghandler",
   "language": "python",
   "name": "python3"
  },
  "language_info": {
   "codemirror_mode": {
    "name": "ipython",
    "version": 3
   },
   "file_extension": ".py",
   "mimetype": "text/x-python",
   "name": "python",
   "nbconvert_exporter": "python",
   "pygments_lexer": "ipython3",
   "version": "3.9.17"
  }
 },
 "nbformat": 4,
 "nbformat_minor": 2
}
