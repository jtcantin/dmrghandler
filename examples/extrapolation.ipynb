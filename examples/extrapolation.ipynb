{
 "cells": [
  {
   "cell_type": "code",
   "execution_count": 1,
   "metadata": {},
   "outputs": [],
   "source": [
    "import dmrghandler.energy_extrapolation as ee\n",
    "import numpy as np\n",
    "import matplotlib.pyplot as plt"
   ]
  },
  {
   "cell_type": "code",
   "execution_count": 2,
   "metadata": {},
   "outputs": [],
   "source": [
    "# fcidump.21_rc_{'Mo': 'def2-SVP', 'I': 'def2-SVP', 'Cl': 'def2-SVP', 'default': '6-311+G(d,p)'}\n",
    "# Read CSV file\n",
    "data = np.genfromtxt('hami_21_data.csv', delimiter=',', skip_header=1)\n",
    "loop_indices = data[:, 0]\n",
    "dmrg_energies = data[:, 1]\n",
    "bond_dimensions = data[:, 2]\n",
    "discarded_weights = data[:, 3]"
   ]
  },
  {
   "cell_type": "code",
   "execution_count": 3,
   "metadata": {},
   "outputs": [
    {
     "name": "stdout",
     "output_type": "stream",
     "text": [
      "Loop indices: [-1.  0.  1.  2.  3.  4.  5.  6.  7.  8.  9. 10. 11. 12. 13. 14. 15. 16.\n",
      " 17. 18. 19. 20. 21. 22. 23. 24. 25. 26. 27. 28. 29. 30. 31. 32. 33. 34.\n",
      " 35. 36. 37. 38. 39. 40. 41. 42. 43. 44.]\n",
      "DMRG energies: [-5411.9167423  -5411.54444653 -5411.92117229 -5411.5842417\n",
      " -5411.9473919  -5411.9255563  -5411.94901958 -5411.96787272\n",
      " -5411.96441168 -5411.98294064 -5411.98468518 -5412.00269382\n",
      " -5412.01313454 -5412.01164167 -5412.02761397 -5412.02575393\n",
      " -5412.039921   -5412.04406872 -5412.05283962 -5412.05497823\n",
      " -5412.06040493 -5412.06461318 -5412.06663267 -5412.06697791\n",
      " -5412.0679487  -5412.06985235 -5412.07088415 -5412.0715905\n",
      " -5412.07293163 -5412.0735119  -5412.07464904 -5412.07442345\n",
      " -5412.07568496 -5412.07664158 -5412.07742559 -5412.07802803\n",
      " -5412.07878493 -5412.07951669 -5412.08021107 -5412.0807007\n",
      " -5412.0812403  -5412.08165483 -5412.08227996 -5412.08290832\n",
      " -5412.08339129 -5412.08390661]\n",
      "Bond dimensions: [  5.   6.   7.   8.   9.  10.  11.  13.  15.  17.  19.  21.  24.  27.\n",
      "  30.  33.  37.  41.  46.  51.  57.  63.  70.  77.  85.  94. 104. 115.\n",
      " 127. 140. 154. 150. 165. 182. 201. 222. 245. 270. 297. 327. 360. 397.\n",
      " 437. 481. 530. 583.]\n",
      "Discarded weights: [1.00109518e-03 1.26939965e-03 1.40675700e-04 5.82512911e-04\n",
      " 1.25396587e-04 1.83461665e-04 1.48625991e-04 1.88109757e-04\n",
      " 1.45398021e-04 2.00434095e-04 8.39419867e-05 1.92445472e-04\n",
      " 1.73180264e-04 1.51572843e-04 9.65280964e-05 1.24356786e-04\n",
      " 1.38648552e-04 1.12294023e-04 1.22212687e-04 1.09772866e-04\n",
      " 1.17425775e-04 8.76222570e-05 9.19297075e-05 8.34852792e-05\n",
      " 7.60769405e-05 6.61817794e-05 7.44343115e-05 6.57255452e-05\n",
      " 7.11813385e-05 6.91674202e-05 6.34316472e-05 7.05673421e-05\n",
      " 6.48368946e-05 6.88422807e-05 6.71930278e-05 6.26804405e-05\n",
      " 6.03765358e-05 5.99396830e-05 5.87790768e-05 4.85747080e-05\n",
      " 4.59134643e-05 3.94969101e-05 3.72198928e-05 3.36348388e-05\n",
      " 3.07637178e-05 2.90776008e-05]\n"
     ]
    }
   ],
   "source": [
    "print('Loop indices:', loop_indices)\n",
    "print('DMRG energies:', dmrg_energies)\n",
    "print('Bond dimensions:', bond_dimensions)\n",
    "print('Discarded weights:', discarded_weights)"
   ]
  },
  {
   "cell_type": "code",
   "execution_count": 4,
   "metadata": {},
   "outputs": [],
   "source": [
    "# Sort data based on bond dimension\n",
    "sorted_indices = np.argsort(bond_dimensions)\n",
    "sorted_bond_dimensions = bond_dimensions[sorted_indices]\n",
    "sorted_dmrg_energies = dmrg_energies[sorted_indices]\n",
    "sorted_discarded_weights = discarded_weights[sorted_indices]\n"
   ]
  },
  {
   "cell_type": "code",
   "execution_count": 9,
   "metadata": {},
   "outputs": [
    {
     "name": "stdout",
     "output_type": "stream",
     "text": [
      "Number of kept bond dimensions: 10\n",
      "Kept bond dimensions: [245. 270. 297. 327. 360. 397. 437. 481. 530. 583.]\n",
      "Kept DMRG energies: [-5412.07878493 -5412.07951669 -5412.08021107 -5412.0807007\n",
      " -5412.0812403  -5412.08165483 -5412.08227996 -5412.08290832\n",
      " -5412.08339129 -5412.08390661]\n",
      "Kept discarded weights: [6.03765358e-05 5.99396830e-05 5.87790768e-05 4.85747080e-05\n",
      " 4.59134643e-05 3.94969101e-05 3.72198928e-05 3.36348388e-05\n",
      " 3.07637178e-05 2.90776008e-05]\n",
      "   Iteration     Total nfev        Cost      Cost reduction    Step norm     Optimality   \n",
      "       0              1         1.0481e+00                                    3.90e+02    \n",
      "       1              3         5.4287e-03      1.04e+00       2.89e+00       5.40e+01    \n",
      "       2              4         8.1538e-04      4.61e-03       2.18e+00       1.55e+01    \n",
      "       3              5         5.3586e-04      2.80e-04       9.57e-01       1.27e+01    \n",
      "       4              6         5.3586e-04      0.00e+00       0.00e+00       1.27e+01    \n",
      "`xtol` termination condition is satisfied.\n",
      "Function evaluations 6, initial cost 1.0481e+00, final cost 5.3586e-04, first-order optimality 1.27e+01.\n",
      "Energy estimated: -5412.086110084197\n",
      "DMRG Energy: -5412.0839066116\n",
      "Fit parameters: [ 0.00000000e+00  1.39658210e+00 -5.41208611e+03]\n",
      "R squared: -inf\n",
      "a: 0.0\n",
      "b: 1.3965820998689227\n",
      "Predicted relative energy: [-13.56766942 -13.57781109 -13.6051182  -13.87142263 -13.95011244\n",
      " -14.16034828 -14.24327604 -14.38472323 -14.50933522 -14.58805756]\n"
     ]
    },
    {
     "data": {
      "image/png": "[encoded data removed]",
      "text/plain": [
       "<Figure size 640x480 with 1 Axes>"
      ]
     },
     "metadata": {},
     "output_type": "display_data"
    }
   ],
   "source": [
    "# num_keep = len(sorted_bond_dimensions)\n",
    "num_keep = 10\n",
    "\n",
    "kept_bond_dimensions = sorted_bond_dimensions[-num_keep:]\n",
    "kept_dmrg_energies = sorted_dmrg_energies[-num_keep:]\n",
    "kept_discarded_weights = sorted_discarded_weights[-num_keep:]\n",
    "\n",
    "print('Number of kept bond dimensions:', num_keep)\n",
    "print('Kept bond dimensions:', kept_bond_dimensions)\n",
    "print('Kept DMRG energies:', kept_dmrg_energies)\n",
    "print('Kept discarded weights:', kept_discarded_weights)\n",
    "\n",
    "(result_obj, energy_estimated, fit_parameters, R_squared) = ee.dmrg_energy_extrapolation(\n",
    "    energies_dmrg=kept_dmrg_energies,\n",
    "    independent_vars=kept_discarded_weights,\n",
    "    extrapolation_type= \"discarded_weight\",\n",
    "    past_parameters = None,\n",
    "    verbosity=2,\n",
    ")\n",
    "\n",
    "print('Energy estimated:', energy_estimated)\n",
    "print('DMRG Energy:', np.min(kept_dmrg_energies))\n",
    "print('Fit parameters:', fit_parameters)\n",
    "print('R squared:', R_squared)\n",
    "\n",
    "# Plot\n",
    "plt.figure()\n",
    "ln_weights = np.log(kept_discarded_weights)\n",
    "rel_energy = (kept_dmrg_energies - energy_estimated)/energy_estimated\n",
    "ln_abs_rel_energy = np.log(np.abs(rel_energy))\n",
    "plt.plot(ln_weights, ln_abs_rel_energy, 'o', label='Data')\n",
    "# ln ΔE_rel =a+b ln(δϵ)\n",
    "# alpha = fit_parameters[0]\n",
    "# a =np.log(alpha)\n",
    "a = fit_parameters[0]\n",
    "b = fit_parameters[1]\n",
    "\n",
    "predicted_rel_energy = a + b * ln_weights\n",
    "# print('alpha:', alpha)\n",
    "print('a:', a)\n",
    "print('b:', b)\n",
    "print('Predicted relative energy:', predicted_rel_energy)\n",
    "plt.plot(ln_weights, predicted_rel_energy, label='Fit')\n",
    "\n",
    "# ee.plot_extrapolation(discarded_weights=kept_discarded_weights,\n",
    "#     energies_dmrg=kept_dmrg_energies,\n",
    "#     fit_parameters=fit_parameters,\n",
    "#     bond_dims=kept_bond_dimensions,\n",
    "#     plot_filename = None,\n",
    "#     figNum = 0,\n",
    "# )\n",
    "plt.xlabel('ln(δϵ)')\n",
    "plt.ylabel('ln(ΔE_rel)')\n",
    "plt.legend()\n",
    "plt.show()\n",
    "\n"
   ]
  }
 ],
 "metadata": {
  "kernelspec": {
   "display_name": "env_dmrghandler",
   "language": "python",
   "name": "python3"
  },
  "language_info": {
   "codemirror_mode": {
    "name": "ipython",
    "version": 3
   },
   "file_extension": ".py",
   "mimetype": "text/x-python",
   "name": "python",
   "nbconvert_exporter": "python",
   "pygments_lexer": "ipython3",
   "version": "3.9.17"
  }
 },
 "nbformat": 4,
 "nbformat_minor": 2
}
